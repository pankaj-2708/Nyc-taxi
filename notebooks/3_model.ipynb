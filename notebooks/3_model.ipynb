{
 "cells": [
  {
   "cell_type": "code",
   "execution_count": 69,
   "id": "bf30bc01-82e9-48a3-8e33-0c7f13c0cdc4",
   "metadata": {},
   "outputs": [],
   "source": [
    "import numpy as np\n",
    "import pandas as pd"
   ]
  },
  {
   "cell_type": "code",
   "execution_count": 75,
   "id": "9502c0f3-d38e-490c-a63f-9abd5cdb9bee",
   "metadata": {},
   "outputs": [
    {
     "data": {
      "text/html": [
       "<div>\n",
       "<style scoped>\n",
       "    .dataframe tbody tr th:only-of-type {\n",
       "        vertical-align: middle;\n",
       "    }\n",
       "\n",
       "    .dataframe tbody tr th {\n",
       "        vertical-align: top;\n",
       "    }\n",
       "\n",
       "    .dataframe thead th {\n",
       "        text-align: right;\n",
       "    }\n",
       "</style>\n",
       "<table border=\"1\" class=\"dataframe\">\n",
       "  <thead>\n",
       "    <tr style=\"text-align: right;\">\n",
       "      <th></th>\n",
       "      <th>0</th>\n",
       "      <th>1</th>\n",
       "      <th>2</th>\n",
       "      <th>3</th>\n",
       "      <th>4</th>\n",
       "      <th>5</th>\n",
       "      <th>6</th>\n",
       "      <th>7</th>\n",
       "      <th>8</th>\n",
       "      <th>9</th>\n",
       "      <th>10</th>\n",
       "      <th>11</th>\n",
       "      <th>target</th>\n",
       "    </tr>\n",
       "  </thead>\n",
       "  <tbody>\n",
       "    <tr>\n",
       "      <th>0</th>\n",
       "      <td>-0.122261</td>\n",
       "      <td>0.517494</td>\n",
       "      <td>0.124369</td>\n",
       "      <td>0.384575</td>\n",
       "      <td>-0.469637</td>\n",
       "      <td>-0.258581</td>\n",
       "      <td>-0.081501</td>\n",
       "      <td>-1.660887</td>\n",
       "      <td>1.0</td>\n",
       "      <td>0.0</td>\n",
       "      <td>2.0</td>\n",
       "      <td>1.0</td>\n",
       "      <td>6.122493</td>\n",
       "    </tr>\n",
       "    <tr>\n",
       "      <th>1</th>\n",
       "      <td>-0.097727</td>\n",
       "      <td>-0.375819</td>\n",
       "      <td>-0.368970</td>\n",
       "      <td>-0.575303</td>\n",
       "      <td>-0.238319</td>\n",
       "      <td>1.420895</td>\n",
       "      <td>-0.312670</td>\n",
       "      <td>1.432332</td>\n",
       "      <td>1.0</td>\n",
       "      <td>0.0</td>\n",
       "      <td>1.0</td>\n",
       "      <td>1.0</td>\n",
       "      <td>6.498282</td>\n",
       "    </tr>\n",
       "    <tr>\n",
       "      <th>2</th>\n",
       "      <td>-0.078143</td>\n",
       "      <td>0.395910</td>\n",
       "      <td>-0.451805</td>\n",
       "      <td>-1.162220</td>\n",
       "      <td>1.222197</td>\n",
       "      <td>-1.562319</td>\n",
       "      <td>0.460491</td>\n",
       "      <td>-1.034804</td>\n",
       "      <td>1.0</td>\n",
       "      <td>0.0</td>\n",
       "      <td>2.0</td>\n",
       "      <td>1.0</td>\n",
       "      <td>7.661527</td>\n",
       "    </tr>\n",
       "    <tr>\n",
       "      <th>3</th>\n",
       "      <td>-0.515558</td>\n",
       "      <td>-0.941274</td>\n",
       "      <td>-0.549976</td>\n",
       "      <td>-1.256071</td>\n",
       "      <td>-0.480411</td>\n",
       "      <td>0.327850</td>\n",
       "      <td>-1.082010</td>\n",
       "      <td>-0.479055</td>\n",
       "      <td>1.0</td>\n",
       "      <td>0.0</td>\n",
       "      <td>2.0</td>\n",
       "      <td>1.0</td>\n",
       "      <td>6.063785</td>\n",
       "    </tr>\n",
       "    <tr>\n",
       "      <th>4</th>\n",
       "      <td>0.006112</td>\n",
       "      <td>1.286091</td>\n",
       "      <td>0.006974</td>\n",
       "      <td>0.855957</td>\n",
       "      <td>-0.752234</td>\n",
       "      <td>-0.258581</td>\n",
       "      <td>1.156773</td>\n",
       "      <td>0.985448</td>\n",
       "      <td>1.0</td>\n",
       "      <td>0.0</td>\n",
       "      <td>2.0</td>\n",
       "      <td>1.0</td>\n",
       "      <td>6.077642</td>\n",
       "    </tr>\n",
       "  </tbody>\n",
       "</table>\n",
       "</div>"
      ],
      "text/plain": [
       "          0         1         2         3         4         5         6  \\\n",
       "0 -0.122261  0.517494  0.124369  0.384575 -0.469637 -0.258581 -0.081501   \n",
       "1 -0.097727 -0.375819 -0.368970 -0.575303 -0.238319  1.420895 -0.312670   \n",
       "2 -0.078143  0.395910 -0.451805 -1.162220  1.222197 -1.562319  0.460491   \n",
       "3 -0.515558 -0.941274 -0.549976 -1.256071 -0.480411  0.327850 -1.082010   \n",
       "4  0.006112  1.286091  0.006974  0.855957 -0.752234 -0.258581  1.156773   \n",
       "\n",
       "          7    8    9   10   11    target  \n",
       "0 -1.660887  1.0  0.0  2.0  1.0  6.122493  \n",
       "1  1.432332  1.0  0.0  1.0  1.0  6.498282  \n",
       "2 -1.034804  1.0  0.0  2.0  1.0  7.661527  \n",
       "3 -0.479055  1.0  0.0  2.0  1.0  6.063785  \n",
       "4  0.985448  1.0  0.0  2.0  1.0  6.077642  "
      ]
     },
     "execution_count": 75,
     "metadata": {},
     "output_type": "execute_result"
    }
   ],
   "source": [
    "df=pd.read_csv(\"../data/interim/transformed.csv\")\n",
    "df.head()"
   ]
  },
  {
   "cell_type": "code",
   "execution_count": 76,
   "id": "a94b0717-92cb-432e-b71d-9238a617ae06",
   "metadata": {},
   "outputs": [],
   "source": [
    "df=df.sample(5000,random_state=42)"
   ]
  },
  {
   "cell_type": "code",
   "execution_count": 77,
   "id": "1aeb2392-1266-4536-9876-053f9ab3eb18",
   "metadata": {},
   "outputs": [],
   "source": [
    "X=df.drop(columns=['target'],axis=1)\n",
    "y=df['target']"
   ]
  },
  {
   "cell_type": "markdown",
   "id": "1f2416a4-3b07-4701-8bb0-f794db6a8903",
   "metadata": {},
   "source": [
    "## Decision tree regressor"
   ]
  },
  {
   "cell_type": "code",
   "execution_count": 78,
   "id": "6210ae68-9a70-49ee-a0b7-a08e507f8e5d",
   "metadata": {},
   "outputs": [
    {
     "data": {
      "text/plain": [
       "(np.float64(0.4244513956199346), np.float64(0.47246721196950126))"
      ]
     },
     "execution_count": 78,
     "metadata": {},
     "output_type": "execute_result"
    }
   ],
   "source": [
    "from sklearn.tree import DecisionTreeRegressor\n",
    "from sklearn.model_selection import cross_val_score\n",
    "\n",
    "df=DecisionTreeRegressor(max_depth=10)\n",
    "score=cross_val_score(df,X,y,scoring='r2')\n",
    "score.mean(),score.max()"
   ]
  },
  {
   "cell_type": "markdown",
   "id": "1e40fd85-b5dc-4512-9b0a-916df2d6df87",
   "metadata": {},
   "source": [
    "## linear regressor"
   ]
  },
  {
   "cell_type": "code",
   "execution_count": 54,
   "id": "7ef9da71-2e81-4474-8458-d927323b016f",
   "metadata": {},
   "outputs": [
    {
     "data": {
      "text/plain": [
       "(np.float64(-3.5521181112731074e+25), np.float64(-4.2092636583126854e+24))"
      ]
     },
     "execution_count": 54,
     "metadata": {},
     "output_type": "execute_result"
    }
   ],
   "source": [
    "from sklearn.linear_model import SGDRegressor\n",
    "from sklearn.preprocessing import PolynomialFeatures\n",
    "\n",
    "pf=PolynomialFeatures(degree=3)\n",
    "reg=SGDRegressor(max_iter=100000)\n",
    "score=cross_val_score(reg,pf.fit_transform(X),y)\n",
    "score.mean(),score.max()"
   ]
  },
  {
   "cell_type": "markdown",
   "id": "fd97be69-bcf2-49d9-a747-683e231fd3c6",
   "metadata": {},
   "source": [
    "## SVM"
   ]
  },
  {
   "cell_type": "code",
   "execution_count": 63,
   "id": "1d93d301-0ca4-4fba-9f22-e9e10631708f",
   "metadata": {},
   "outputs": [
    {
     "data": {
      "text/plain": [
       "(np.float64(0.6166949752351916), np.float64(0.6637283352343739))"
      ]
     },
     "execution_count": 63,
     "metadata": {},
     "output_type": "execute_result"
    }
   ],
   "source": [
    "from sklearn.svm import SVR\n",
    "sv=SVR()\n",
    "score=cross_val_score(sv,X,y)\n",
    "score.mean(),score.max()"
   ]
  },
  {
   "cell_type": "markdown",
   "id": "487897c1-b507-4436-a8ee-b0b25a1f4347",
   "metadata": {},
   "source": [
    "## random forest"
   ]
  },
  {
   "cell_type": "code",
   "execution_count": 64,
   "id": "fd4408a7-f09c-4a77-9f7c-7869152edad0",
   "metadata": {},
   "outputs": [
    {
     "data": {
      "text/plain": [
       "(np.float64(0.620770750247747), np.float64(0.6758079962893562))"
      ]
     },
     "execution_count": 64,
     "metadata": {},
     "output_type": "execute_result"
    }
   ],
   "source": [
    "from sklearn.ensemble import RandomForestRegressor\n",
    "rf=RandomForestRegressor()\n",
    "score=cross_val_score(rf,X,y)\n",
    "score.mean(),score.max()"
   ]
  },
  {
   "cell_type": "code",
   "execution_count": null,
   "id": "e49c6266-7e81-4408-9a5c-e1abb96630be",
   "metadata": {},
   "outputs": [],
   "source": []
  }
 ],
 "metadata": {
  "kernelspec": {
   "display_name": "Python (ml)",
   "language": "python",
   "name": "ml"
  },
  "language_info": {
   "codemirror_mode": {
    "name": "ipython",
    "version": 3
   },
   "file_extension": ".py",
   "mimetype": "text/x-python",
   "name": "python",
   "nbconvert_exporter": "python",
   "pygments_lexer": "ipython3",
   "version": "3.13.3"
  }
 },
 "nbformat": 4,
 "nbformat_minor": 5
}
